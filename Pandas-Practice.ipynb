{
 "cells": [
  {
   "cell_type": "markdown",
   "metadata": {},
   "source": [
    "# Importing, Reading and Manipulating Data with ACTUAL LITERAL PANDAS\n",
    "\n",
    "![I have no idea what I'm doing panda](https://cdn-images-1.medium.com/max/1600/1*oBx032ncOwLmCFX3Epo3Zg.jpeg)\n",
    "\n",
    "Just kidding - but Pandas is a great library to work with relational data. \n",
    "\n",
    "[Check out the documentation!](https://pandas.pydata.org/pandas-docs/stable/) (always a great idea)\n",
    "\n",
    "Pandas is a library we're going to be using pretty much every day in this course, so we're going to do a ton of practice so you can be on your way to becoming a _PANDAS MASTER_.\n",
    "\n",
    "![Kung fu panda excited](https://data.whicdn.com/images/201331793/original.gif)"
   ]
  },
  {
   "cell_type": "markdown",
   "metadata": {},
   "source": [
    "Today, we're going to look at some data from the Austin Animal Shelter. Data source: [intakes data](https://data.austintexas.gov/Health-and-Community-Services/Austin-Animal-Center-Intakes/wter-evkm) and [outcomes data](https://data.austintexas.gov/Health-and-Community-Services/Austin-Animal-Center-Outcomes/9t4d-g238).\n",
    "\n",
    "First, let's look at intake data, which is data describing the animals as they enter the shelter."
   ]
  },
  {
   "cell_type": "code",
   "execution_count": 1,
   "metadata": {},
   "outputs": [],
   "source": [
    "# Imports! Can't use pandas unless we bring it into our notebook\n",
    "import pandas as pd"
   ]
  },
  {
   "cell_type": "code",
   "execution_count": 2,
   "metadata": {},
   "outputs": [],
   "source": [
    "# So... how do we access our data?\n",
    "# I've provided the path - replace None with appropriate code\n",
    "PATH = \"data/Austin_Animal_Center_Intakes.csv\"\n",
    "\n",
    "intakes = pd.read_csv(PATH)"
   ]
  },
  {
   "cell_type": "code",
   "execution_count": 3,
   "metadata": {},
   "outputs": [
    {
     "data": {
      "text/html": [
       "<div>\n",
       "<style scoped>\n",
       "    .dataframe tbody tr th:only-of-type {\n",
       "        vertical-align: middle;\n",
       "    }\n",
       "\n",
       "    .dataframe tbody tr th {\n",
       "        vertical-align: top;\n",
       "    }\n",
       "\n",
       "    .dataframe thead th {\n",
       "        text-align: right;\n",
       "    }\n",
       "</style>\n",
       "<table border=\"1\" class=\"dataframe\">\n",
       "  <thead>\n",
       "    <tr style=\"text-align: right;\">\n",
       "      <th></th>\n",
       "      <th>Animal ID</th>\n",
       "      <th>Name</th>\n",
       "      <th>DateTime</th>\n",
       "      <th>MonthYear</th>\n",
       "      <th>Found Location</th>\n",
       "      <th>Intake Type</th>\n",
       "      <th>Intake Condition</th>\n",
       "      <th>Animal Type</th>\n",
       "      <th>Sex upon Intake</th>\n",
       "      <th>Age upon Intake</th>\n",
       "      <th>Breed</th>\n",
       "      <th>Color</th>\n",
       "    </tr>\n",
       "  </thead>\n",
       "  <tbody>\n",
       "    <tr>\n",
       "      <td>0</td>\n",
       "      <td>A786884</td>\n",
       "      <td>*Brock</td>\n",
       "      <td>01/03/2019 04:19:00 PM</td>\n",
       "      <td>01/03/2019 04:19:00 PM</td>\n",
       "      <td>2501 Magin Meadow Dr in Austin (TX)</td>\n",
       "      <td>Stray</td>\n",
       "      <td>Normal</td>\n",
       "      <td>Dog</td>\n",
       "      <td>Neutered Male</td>\n",
       "      <td>2 years</td>\n",
       "      <td>Beagle Mix</td>\n",
       "      <td>Tricolor</td>\n",
       "    </tr>\n",
       "    <tr>\n",
       "      <td>1</td>\n",
       "      <td>A706918</td>\n",
       "      <td>Belle</td>\n",
       "      <td>07/05/2015 12:59:00 PM</td>\n",
       "      <td>07/05/2015 12:59:00 PM</td>\n",
       "      <td>9409 Bluegrass Dr in Austin (TX)</td>\n",
       "      <td>Stray</td>\n",
       "      <td>Normal</td>\n",
       "      <td>Dog</td>\n",
       "      <td>Spayed Female</td>\n",
       "      <td>8 years</td>\n",
       "      <td>English Springer Spaniel</td>\n",
       "      <td>White/Liver</td>\n",
       "    </tr>\n",
       "    <tr>\n",
       "      <td>2</td>\n",
       "      <td>A724273</td>\n",
       "      <td>Runster</td>\n",
       "      <td>04/14/2016 06:43:00 PM</td>\n",
       "      <td>04/14/2016 06:43:00 PM</td>\n",
       "      <td>2818 Palomino Trail in Austin (TX)</td>\n",
       "      <td>Stray</td>\n",
       "      <td>Normal</td>\n",
       "      <td>Dog</td>\n",
       "      <td>Intact Male</td>\n",
       "      <td>11 months</td>\n",
       "      <td>Basenji Mix</td>\n",
       "      <td>Sable/White</td>\n",
       "    </tr>\n",
       "    <tr>\n",
       "      <td>3</td>\n",
       "      <td>A665644</td>\n",
       "      <td>NaN</td>\n",
       "      <td>10/21/2013 07:59:00 AM</td>\n",
       "      <td>10/21/2013 07:59:00 AM</td>\n",
       "      <td>Austin (TX)</td>\n",
       "      <td>Stray</td>\n",
       "      <td>Sick</td>\n",
       "      <td>Cat</td>\n",
       "      <td>Intact Female</td>\n",
       "      <td>4 weeks</td>\n",
       "      <td>Domestic Shorthair Mix</td>\n",
       "      <td>Calico</td>\n",
       "    </tr>\n",
       "    <tr>\n",
       "      <td>4</td>\n",
       "      <td>A682524</td>\n",
       "      <td>Rio</td>\n",
       "      <td>06/29/2014 10:38:00 AM</td>\n",
       "      <td>06/29/2014 10:38:00 AM</td>\n",
       "      <td>800 Grove Blvd in Austin (TX)</td>\n",
       "      <td>Stray</td>\n",
       "      <td>Normal</td>\n",
       "      <td>Dog</td>\n",
       "      <td>Neutered Male</td>\n",
       "      <td>4 years</td>\n",
       "      <td>Doberman Pinsch/Australian Cattle Dog</td>\n",
       "      <td>Tan/Gray</td>\n",
       "    </tr>\n",
       "  </tbody>\n",
       "</table>\n",
       "</div>"
      ],
      "text/plain": [
       "  Animal ID     Name                DateTime               MonthYear  \\\n",
       "0   A786884   *Brock  01/03/2019 04:19:00 PM  01/03/2019 04:19:00 PM   \n",
       "1   A706918    Belle  07/05/2015 12:59:00 PM  07/05/2015 12:59:00 PM   \n",
       "2   A724273  Runster  04/14/2016 06:43:00 PM  04/14/2016 06:43:00 PM   \n",
       "3   A665644      NaN  10/21/2013 07:59:00 AM  10/21/2013 07:59:00 AM   \n",
       "4   A682524      Rio  06/29/2014 10:38:00 AM  06/29/2014 10:38:00 AM   \n",
       "\n",
       "                        Found Location Intake Type Intake Condition  \\\n",
       "0  2501 Magin Meadow Dr in Austin (TX)       Stray           Normal   \n",
       "1     9409 Bluegrass Dr in Austin (TX)       Stray           Normal   \n",
       "2   2818 Palomino Trail in Austin (TX)       Stray           Normal   \n",
       "3                          Austin (TX)       Stray             Sick   \n",
       "4        800 Grove Blvd in Austin (TX)       Stray           Normal   \n",
       "\n",
       "  Animal Type Sex upon Intake Age upon Intake  \\\n",
       "0         Dog   Neutered Male         2 years   \n",
       "1         Dog   Spayed Female         8 years   \n",
       "2         Dog     Intact Male       11 months   \n",
       "3         Cat   Intact Female         4 weeks   \n",
       "4         Dog   Neutered Male         4 years   \n",
       "\n",
       "                                   Breed        Color  \n",
       "0                             Beagle Mix     Tricolor  \n",
       "1               English Springer Spaniel  White/Liver  \n",
       "2                            Basenji Mix  Sable/White  \n",
       "3                 Domestic Shorthair Mix       Calico  \n",
       "4  Doberman Pinsch/Australian Cattle Dog     Tan/Gray  "
      ]
     },
     "execution_count": 3,
     "metadata": {},
     "output_type": "execute_result"
    }
   ],
   "source": [
    "# Code here to check out the first few rows\n",
    "intakes.head()"
   ]
  },
  {
   "cell_type": "code",
   "execution_count": 4,
   "metadata": {},
   "outputs": [
    {
     "data": {
      "text/plain": [
       "Intact Male      37163\n",
       "Intact Female    35199\n",
       "Neutered Male    17907\n",
       "Spayed Female    15368\n",
       "Unknown           9451\n",
       "Name: Sex upon Intake, dtype: int64"
      ]
     },
     "execution_count": 4,
     "metadata": {},
     "output_type": "execute_result"
    }
   ],
   "source": [
    "intakes[\"Sex upon Intake\"].value_counts()"
   ]
  },
  {
   "cell_type": "code",
   "execution_count": 5,
   "metadata": {},
   "outputs": [
    {
     "data": {
      "text/plain": [
       "(115089, 12)"
      ]
     },
     "execution_count": 5,
     "metadata": {},
     "output_type": "execute_result"
    }
   ],
   "source": [
    "# Code here to check the shape of the dataframe\n",
    "intakes.shape"
   ]
  },
  {
   "cell_type": "code",
   "execution_count": 6,
   "metadata": {},
   "outputs": [
    {
     "data": {
      "text/plain": [
       "1381068"
      ]
     },
     "execution_count": 6,
     "metadata": {},
     "output_type": "execute_result"
    }
   ],
   "source": [
    "# Code here to check the size of the dataframe\n",
    "intakes.size"
   ]
  },
  {
   "cell_type": "code",
   "execution_count": 7,
   "metadata": {
    "scrolled": true
   },
   "outputs": [
    {
     "name": "stdout",
     "output_type": "stream",
     "text": [
      "<class 'pandas.core.frame.DataFrame'>\n",
      "RangeIndex: 115089 entries, 0 to 115088\n",
      "Data columns (total 12 columns):\n",
      "Animal ID           115089 non-null object\n",
      "Name                78859 non-null object\n",
      "DateTime            115089 non-null object\n",
      "MonthYear           115089 non-null object\n",
      "Found Location      115089 non-null object\n",
      "Intake Type         115089 non-null object\n",
      "Intake Condition    115089 non-null object\n",
      "Animal Type         115089 non-null object\n",
      "Sex upon Intake     115088 non-null object\n",
      "Age upon Intake     115089 non-null object\n",
      "Breed               115089 non-null object\n",
      "Color               115089 non-null object\n",
      "dtypes: object(12)\n",
      "memory usage: 10.5+ MB\n"
     ]
    }
   ],
   "source": [
    "# Code here to check information on the dataframe\n",
    "intakes.info()"
   ]
  },
  {
   "cell_type": "markdown",
   "metadata": {},
   "source": [
    "Questions to ask yourself:\n",
    "\n",
    "- How can you describe the shape of the data?\n",
    "- Are there any empty cells? How can I tell?\n",
    "- What are the datatypes of the data?\n",
    "\n",
    "**Note:** You see that some of the ways we dealt with our dataframe required `()` and some did not - why is that?"
   ]
  },
  {
   "cell_type": "markdown",
   "metadata": {},
   "source": [
    "## Dealing with Null Data\n",
    "\n",
    "It is a fact of the data science life - you will always be surrounded by 'dirty' data. What does it mean for data to be 'dirty'? What are some of the various ways that data can be 'dirty'?\n",
    "\n",
    "- missing values / blanks / NaNs / nulls\n",
    "- nonsense data - stuff that doesn't make sense in context (negatives, '9999', any other 'default' value that doesn't convey meaning)\n",
    "- repeated / duplicate values"
   ]
  },
  {
   "cell_type": "code",
   "execution_count": 8,
   "metadata": {},
   "outputs": [
    {
     "data": {
      "text/html": [
       "<div>\n",
       "<style scoped>\n",
       "    .dataframe tbody tr th:only-of-type {\n",
       "        vertical-align: middle;\n",
       "    }\n",
       "\n",
       "    .dataframe tbody tr th {\n",
       "        vertical-align: top;\n",
       "    }\n",
       "\n",
       "    .dataframe thead th {\n",
       "        text-align: right;\n",
       "    }\n",
       "</style>\n",
       "<table border=\"1\" class=\"dataframe\">\n",
       "  <thead>\n",
       "    <tr style=\"text-align: right;\">\n",
       "      <th></th>\n",
       "      <th>Animal ID</th>\n",
       "      <th>Name</th>\n",
       "      <th>DateTime</th>\n",
       "      <th>MonthYear</th>\n",
       "      <th>Found Location</th>\n",
       "      <th>Intake Type</th>\n",
       "      <th>Intake Condition</th>\n",
       "      <th>Animal Type</th>\n",
       "      <th>Sex upon Intake</th>\n",
       "      <th>Age upon Intake</th>\n",
       "      <th>Breed</th>\n",
       "      <th>Color</th>\n",
       "    </tr>\n",
       "  </thead>\n",
       "  <tbody>\n",
       "    <tr>\n",
       "      <td>0</td>\n",
       "      <td>False</td>\n",
       "      <td>False</td>\n",
       "      <td>False</td>\n",
       "      <td>False</td>\n",
       "      <td>False</td>\n",
       "      <td>False</td>\n",
       "      <td>False</td>\n",
       "      <td>False</td>\n",
       "      <td>False</td>\n",
       "      <td>False</td>\n",
       "      <td>False</td>\n",
       "      <td>False</td>\n",
       "    </tr>\n",
       "    <tr>\n",
       "      <td>1</td>\n",
       "      <td>False</td>\n",
       "      <td>False</td>\n",
       "      <td>False</td>\n",
       "      <td>False</td>\n",
       "      <td>False</td>\n",
       "      <td>False</td>\n",
       "      <td>False</td>\n",
       "      <td>False</td>\n",
       "      <td>False</td>\n",
       "      <td>False</td>\n",
       "      <td>False</td>\n",
       "      <td>False</td>\n",
       "    </tr>\n",
       "    <tr>\n",
       "      <td>2</td>\n",
       "      <td>False</td>\n",
       "      <td>False</td>\n",
       "      <td>False</td>\n",
       "      <td>False</td>\n",
       "      <td>False</td>\n",
       "      <td>False</td>\n",
       "      <td>False</td>\n",
       "      <td>False</td>\n",
       "      <td>False</td>\n",
       "      <td>False</td>\n",
       "      <td>False</td>\n",
       "      <td>False</td>\n",
       "    </tr>\n",
       "    <tr>\n",
       "      <td>3</td>\n",
       "      <td>False</td>\n",
       "      <td>True</td>\n",
       "      <td>False</td>\n",
       "      <td>False</td>\n",
       "      <td>False</td>\n",
       "      <td>False</td>\n",
       "      <td>False</td>\n",
       "      <td>False</td>\n",
       "      <td>False</td>\n",
       "      <td>False</td>\n",
       "      <td>False</td>\n",
       "      <td>False</td>\n",
       "    </tr>\n",
       "    <tr>\n",
       "      <td>4</td>\n",
       "      <td>False</td>\n",
       "      <td>False</td>\n",
       "      <td>False</td>\n",
       "      <td>False</td>\n",
       "      <td>False</td>\n",
       "      <td>False</td>\n",
       "      <td>False</td>\n",
       "      <td>False</td>\n",
       "      <td>False</td>\n",
       "      <td>False</td>\n",
       "      <td>False</td>\n",
       "      <td>False</td>\n",
       "    </tr>\n",
       "    <tr>\n",
       "      <td>...</td>\n",
       "      <td>...</td>\n",
       "      <td>...</td>\n",
       "      <td>...</td>\n",
       "      <td>...</td>\n",
       "      <td>...</td>\n",
       "      <td>...</td>\n",
       "      <td>...</td>\n",
       "      <td>...</td>\n",
       "      <td>...</td>\n",
       "      <td>...</td>\n",
       "      <td>...</td>\n",
       "      <td>...</td>\n",
       "    </tr>\n",
       "    <tr>\n",
       "      <td>115084</td>\n",
       "      <td>False</td>\n",
       "      <td>True</td>\n",
       "      <td>False</td>\n",
       "      <td>False</td>\n",
       "      <td>False</td>\n",
       "      <td>False</td>\n",
       "      <td>False</td>\n",
       "      <td>False</td>\n",
       "      <td>False</td>\n",
       "      <td>False</td>\n",
       "      <td>False</td>\n",
       "      <td>False</td>\n",
       "    </tr>\n",
       "    <tr>\n",
       "      <td>115085</td>\n",
       "      <td>False</td>\n",
       "      <td>True</td>\n",
       "      <td>False</td>\n",
       "      <td>False</td>\n",
       "      <td>False</td>\n",
       "      <td>False</td>\n",
       "      <td>False</td>\n",
       "      <td>False</td>\n",
       "      <td>False</td>\n",
       "      <td>False</td>\n",
       "      <td>False</td>\n",
       "      <td>False</td>\n",
       "    </tr>\n",
       "    <tr>\n",
       "      <td>115086</td>\n",
       "      <td>False</td>\n",
       "      <td>True</td>\n",
       "      <td>False</td>\n",
       "      <td>False</td>\n",
       "      <td>False</td>\n",
       "      <td>False</td>\n",
       "      <td>False</td>\n",
       "      <td>False</td>\n",
       "      <td>False</td>\n",
       "      <td>False</td>\n",
       "      <td>False</td>\n",
       "      <td>False</td>\n",
       "    </tr>\n",
       "    <tr>\n",
       "      <td>115087</td>\n",
       "      <td>False</td>\n",
       "      <td>False</td>\n",
       "      <td>False</td>\n",
       "      <td>False</td>\n",
       "      <td>False</td>\n",
       "      <td>False</td>\n",
       "      <td>False</td>\n",
       "      <td>False</td>\n",
       "      <td>False</td>\n",
       "      <td>False</td>\n",
       "      <td>False</td>\n",
       "      <td>False</td>\n",
       "    </tr>\n",
       "    <tr>\n",
       "      <td>115088</td>\n",
       "      <td>False</td>\n",
       "      <td>False</td>\n",
       "      <td>False</td>\n",
       "      <td>False</td>\n",
       "      <td>False</td>\n",
       "      <td>False</td>\n",
       "      <td>False</td>\n",
       "      <td>False</td>\n",
       "      <td>False</td>\n",
       "      <td>False</td>\n",
       "      <td>False</td>\n",
       "      <td>False</td>\n",
       "    </tr>\n",
       "  </tbody>\n",
       "</table>\n",
       "<p>115089 rows × 12 columns</p>\n",
       "</div>"
      ],
      "text/plain": [
       "        Animal ID   Name  DateTime  MonthYear  Found Location  Intake Type  \\\n",
       "0           False  False     False      False           False        False   \n",
       "1           False  False     False      False           False        False   \n",
       "2           False  False     False      False           False        False   \n",
       "3           False   True     False      False           False        False   \n",
       "4           False  False     False      False           False        False   \n",
       "...           ...    ...       ...        ...             ...          ...   \n",
       "115084      False   True     False      False           False        False   \n",
       "115085      False   True     False      False           False        False   \n",
       "115086      False   True     False      False           False        False   \n",
       "115087      False  False     False      False           False        False   \n",
       "115088      False  False     False      False           False        False   \n",
       "\n",
       "        Intake Condition  Animal Type  Sex upon Intake  Age upon Intake  \\\n",
       "0                  False        False            False            False   \n",
       "1                  False        False            False            False   \n",
       "2                  False        False            False            False   \n",
       "3                  False        False            False            False   \n",
       "4                  False        False            False            False   \n",
       "...                  ...          ...              ...              ...   \n",
       "115084             False        False            False            False   \n",
       "115085             False        False            False            False   \n",
       "115086             False        False            False            False   \n",
       "115087             False        False            False            False   \n",
       "115088             False        False            False            False   \n",
       "\n",
       "        Breed  Color  \n",
       "0       False  False  \n",
       "1       False  False  \n",
       "2       False  False  \n",
       "3       False  False  \n",
       "4       False  False  \n",
       "...       ...    ...  \n",
       "115084  False  False  \n",
       "115085  False  False  \n",
       "115086  False  False  \n",
       "115087  False  False  \n",
       "115088  False  False  \n",
       "\n",
       "[115089 rows x 12 columns]"
      ]
     },
     "execution_count": 8,
     "metadata": {},
     "output_type": "execute_result"
    }
   ],
   "source": [
    "# Check for null values recognized by pandas as blank\n",
    "# Run this cell without changes - is this helpful?\n",
    "intakes.isna()"
   ]
  },
  {
   "cell_type": "code",
   "execution_count": 9,
   "metadata": {
    "scrolled": true
   },
   "outputs": [
    {
     "data": {
      "text/plain": [
       "Animal ID           0.000000\n",
       "Name                0.314800\n",
       "DateTime            0.000000\n",
       "MonthYear           0.000000\n",
       "Found Location      0.000000\n",
       "Intake Type         0.000000\n",
       "Intake Condition    0.000000\n",
       "Animal Type         0.000000\n",
       "Sex upon Intake     0.000009\n",
       "Age upon Intake     0.000000\n",
       "Breed               0.000000\n",
       "Color               0.000000\n",
       "dtype: float64"
      ]
     },
     "execution_count": 9,
     "metadata": {},
     "output_type": "execute_result"
    }
   ],
   "source": [
    "# Code here for a more helpful null check\n",
    "intakes.isna().mean()"
   ]
  },
  {
   "cell_type": "markdown",
   "metadata": {},
   "source": [
    "There is no one way to deal with null values. What are some of the strategies we can use to deal with them?\n",
    "\n",
    "- change them to a measure of central tendency - mode, median, mean\n",
    "- change them to a nonsense number, so you can still see what was null\n",
    "- drop them"
   ]
  },
  {
   "cell_type": "markdown",
   "metadata": {},
   "source": [
    "How, in Pandas, can we fill null values recognized by Pandas as null? Let's practice by filling nulls for the Name column with some placeholder value, like 'No name'.\n",
    "\n",
    "Helpful link: https://pandas.pydata.org/pandas-docs/stable/reference/api/pandas.DataFrame.fillna.html"
   ]
  },
  {
   "cell_type": "code",
   "execution_count": 10,
   "metadata": {},
   "outputs": [],
   "source": [
    "# Code here to fill nulls in the Name column\n",
    "intakes['Name'].fillna(value=\"No name\", inplace=True)"
   ]
  },
  {
   "cell_type": "markdown",
   "metadata": {},
   "source": [
    "Now let's check for nulls again..."
   ]
  },
  {
   "cell_type": "code",
   "execution_count": 11,
   "metadata": {},
   "outputs": [
    {
     "data": {
      "text/plain": [
       "Animal ID           0\n",
       "Name                0\n",
       "DateTime            0\n",
       "MonthYear           0\n",
       "Found Location      0\n",
       "Intake Type         0\n",
       "Intake Condition    0\n",
       "Animal Type         0\n",
       "Sex upon Intake     1\n",
       "Age upon Intake     0\n",
       "Breed               0\n",
       "Color               0\n",
       "dtype: int64"
      ]
     },
     "execution_count": 11,
     "metadata": {},
     "output_type": "execute_result"
    }
   ],
   "source": [
    "# Sanity check\n",
    "intakes.isna().sum()"
   ]
  },
  {
   "cell_type": "markdown",
   "metadata": {},
   "source": [
    "Let's try a different strategy for the one lonely null in the 'Sex upon Intake' column - let's just drop that row, since it's only one observation.\n",
    "\n",
    "Helpful link: https://pandas.pydata.org/pandas-docs/stable/reference/api/pandas.DataFrame.dropna.html"
   ]
  },
  {
   "cell_type": "code",
   "execution_count": 12,
   "metadata": {},
   "outputs": [],
   "source": [
    "# Code here to drop the whole row where Sex upon Intake is null\n",
    "intakes[\"Sex upon Intake\"].fillna(\"Unknown\", inplace=True)"
   ]
  },
  {
   "cell_type": "code",
   "execution_count": 13,
   "metadata": {
    "scrolled": false
   },
   "outputs": [
    {
     "data": {
      "text/plain": [
       "Animal ID           0\n",
       "Name                0\n",
       "DateTime            0\n",
       "MonthYear           0\n",
       "Found Location      0\n",
       "Intake Type         0\n",
       "Intake Condition    0\n",
       "Animal Type         0\n",
       "Sex upon Intake     0\n",
       "Age upon Intake     0\n",
       "Breed               0\n",
       "Color               0\n",
       "dtype: int64"
      ]
     },
     "execution_count": 13,
     "metadata": {},
     "output_type": "execute_result"
    }
   ],
   "source": [
    "# Copy/paste code from above to re-check for nulls\n",
    "intakes.isna().sum()"
   ]
  },
  {
   "cell_type": "markdown",
   "metadata": {},
   "source": [
    "How do we find sneaky null values that aren't marked by Pandas as null?"
   ]
  },
  {
   "cell_type": "code",
   "execution_count": 14,
   "metadata": {},
   "outputs": [
    {
     "data": {
      "text/plain": [
       "1 year       20496\n",
       "2 years      17152\n",
       "1 month      11091\n",
       "3 years       6929\n",
       "2 months      6142\n",
       "4 years       4189\n",
       "4 weeks       4126\n",
       "5 years       3811\n",
       "3 weeks       3404\n",
       "4 months      2976\n",
       "3 months      2967\n",
       "5 months      2872\n",
       "6 years       2562\n",
       "2 weeks       2349\n",
       "6 months      2235\n",
       "7 years       2177\n",
       "8 years       2130\n",
       "7 months      1756\n",
       "9 months      1737\n",
       "10 years      1692\n",
       "8 months      1395\n",
       "9 years       1240\n",
       "1 week         945\n",
       "10 months      913\n",
       "12 years       828\n",
       "1 weeks        788\n",
       "11 months      724\n",
       "0 years        702\n",
       "11 years       693\n",
       "1 day          561\n",
       "13 years       524\n",
       "3 days         500\n",
       "2 days         455\n",
       "14 years       354\n",
       "15 years       307\n",
       "4 days         302\n",
       "5 weeks        302\n",
       "6 days         284\n",
       "5 days         173\n",
       "16 years       133\n",
       "17 years        74\n",
       "18 years        46\n",
       "19 years        24\n",
       "20 years        17\n",
       "-1 years         4\n",
       "22 years         4\n",
       "25 years         1\n",
       "24 years         1\n",
       "-3 years         1\n",
       "21 years         1\n",
       "Name: Age upon Intake, dtype: int64"
      ]
     },
     "execution_count": 14,
     "metadata": {},
     "output_type": "execute_result"
    }
   ],
   "source": [
    "# Run this cell without changes\n",
    "intakes['Age upon Intake'].value_counts()"
   ]
  },
  {
   "cell_type": "markdown",
   "metadata": {},
   "source": [
    "Analyze the values you're finding in the 'Age upon Intake' column. What doesn't quite fit here?\n",
    "\n",
    "**Note:** using `.value_counts()` is just one way to look at the values of a column. In this case, it works because we can see which values are the most common, and it's verbose enough to show even the less common values that might be problematic.\n",
    "\n",
    "So - how do we want to deal with the data in here that doesn't make sense?\n",
    "\n",
    "- "
   ]
  },
  {
   "cell_type": "markdown",
   "metadata": {},
   "source": [
    "One strategy for dealing with data involves making it so that we can sort by age, and have a standard scale for age.\n",
    "\n",
    "First, let's see what that would look like if we try it as the column is now:"
   ]
  },
  {
   "cell_type": "code",
   "execution_count": 15,
   "metadata": {},
   "outputs": [
    {
     "data": {
      "text/plain": [
       "array(['-1 years', '-3 years', '0 years', '1 day', '1 month', '1 week',\n",
       "       '1 weeks', '1 year', '10 months', '10 years', '11 months',\n",
       "       '11 years', '12 years', '13 years', '14 years', '15 years',\n",
       "       '16 years', '17 years', '18 years', '19 years', '2 days',\n",
       "       '2 months', '2 weeks', '2 years', '20 years', '21 years',\n",
       "       '22 years', '24 years', '25 years', '3 days', '3 months',\n",
       "       '3 weeks', '3 years', '4 days', '4 months', '4 weeks', '4 years',\n",
       "       '5 days', '5 months', '5 weeks', '5 years', '6 days', '6 months',\n",
       "       '6 years', '7 months', '7 years', '8 months', '8 years',\n",
       "       '9 months', '9 years'], dtype=object)"
      ]
     },
     "execution_count": 15,
     "metadata": {},
     "output_type": "execute_result"
    }
   ],
   "source": [
    "# Run this cell without changes\n",
    "intakes['Age upon Intake'].sort_values(ascending=True).unique()"
   ]
  },
  {
   "cell_type": "markdown",
   "metadata": {},
   "source": [
    "Let's unpack what is happening in that line of code - I take the column 'Age upon Intake' by itself (as a series), then sort the values from lowest to highest (`ascending=True`), then grab only unique results so we can see how it ordered the values without looking through all 115,088.\n",
    "\n",
    "Does that do what we want it to? Let's discuss how this worked - how did it sort?\n",
    "\n",
    "- "
   ]
  },
  {
   "cell_type": "markdown",
   "metadata": {},
   "source": [
    "To make our problem a bit easier, without dealing with the different ways that age is broken out, let's only look at animals where the age is given in years. How can we do that?"
   ]
  },
  {
   "cell_type": "code",
   "execution_count": 16,
   "metadata": {},
   "outputs": [],
   "source": [
    "# Code here to grab only the animals where age is given in years\n",
    "\n",
    "years_df = intakes.loc[intakes[\"Age upon Intake\"].str.contains(\"year\") == True]"
   ]
  },
  {
   "cell_type": "code",
   "execution_count": 17,
   "metadata": {},
   "outputs": [
    {
     "data": {
      "text/plain": [
       "(66092, 12)"
      ]
     },
     "execution_count": 17,
     "metadata": {},
     "output_type": "execute_result"
    }
   ],
   "source": [
    "# Check the shape of this subset dataframe\n",
    "years_df.shape"
   ]
  },
  {
   "cell_type": "code",
   "execution_count": 18,
   "metadata": {},
   "outputs": [
    {
     "data": {
      "text/plain": [
       "array(['2 years', '8 years', '4 years', '6 years', '14 years', '18 years',\n",
       "       '1 year', '5 years', '3 years', '15 years', '7 years', '12 years',\n",
       "       '10 years', '9 years', '0 years', '11 years', '13 years',\n",
       "       '17 years', '19 years', '16 years', '20 years', '22 years',\n",
       "       '21 years', '-1 years', '25 years', '24 years', '-3 years'],\n",
       "      dtype=object)"
      ]
     },
     "execution_count": 18,
     "metadata": {},
     "output_type": "execute_result"
    }
   ],
   "source": [
    "# Sanity check\n",
    "years_df[\"Age upon Intake\"].unique()"
   ]
  },
  {
   "cell_type": "markdown",
   "metadata": {},
   "source": [
    "Can we grab only the number of years from this? Let's make a new column where we can put this data."
   ]
  },
  {
   "cell_type": "code",
   "execution_count": 19,
   "metadata": {
    "scrolled": false
   },
   "outputs": [
    {
     "name": "stderr",
     "output_type": "stream",
     "text": [
      "/opt/anaconda3/envs/learn-env/lib/python3.6/site-packages/ipykernel_launcher.py:2: SettingWithCopyWarning: \n",
      "A value is trying to be set on a copy of a slice from a DataFrame.\n",
      "Try using .loc[row_indexer,col_indexer] = value instead\n",
      "\n",
      "See the caveats in the documentation: http://pandas.pydata.org/pandas-docs/stable/user_guide/indexing.html#returning-a-view-versus-a-copy\n",
      "  \n"
     ]
    }
   ],
   "source": [
    "# Code here to make a new column, 'Age in Years'\n",
    "years_df[\"Age in Years\"] = years_df[\"Age upon Intake\"].str.split(\" \").str[0]\n",
    "\n",
    "# Did you get a 'SettingWithCopyWarning'? No worries - let's discuss"
   ]
  },
  {
   "cell_type": "code",
   "execution_count": 20,
   "metadata": {},
   "outputs": [
    {
     "data": {
      "text/plain": [
       "0         2\n",
       "1         8\n",
       "4         4\n",
       "5         2\n",
       "6         6\n",
       "         ..\n",
       "115081    1\n",
       "115082    3\n",
       "115084    2\n",
       "115085    1\n",
       "115087    7\n",
       "Name: Age in Years, Length: 66092, dtype: object"
      ]
     },
     "execution_count": 20,
     "metadata": {},
     "output_type": "execute_result"
    }
   ],
   "source": [
    "years_df[\"Age in Years\"]"
   ]
  },
  {
   "cell_type": "code",
   "execution_count": 21,
   "metadata": {
    "scrolled": false
   },
   "outputs": [
    {
     "name": "stderr",
     "output_type": "stream",
     "text": [
      "/opt/anaconda3/envs/learn-env/lib/python3.6/site-packages/ipykernel_launcher.py:2: SettingWithCopyWarning: \n",
      "A value is trying to be set on a copy of a slice from a DataFrame.\n",
      "Try using .loc[row_indexer,col_indexer] = value instead\n",
      "\n",
      "See the caveats in the documentation: http://pandas.pydata.org/pandas-docs/stable/user_guide/indexing.html#returning-a-view-versus-a-copy\n",
      "  \n"
     ]
    }
   ],
   "source": [
    "# Code here to transform that column to an integer\n",
    "years_df[\"Age in Years\"] = years_df[\"Age in Years\"].astype(\"int\")"
   ]
  },
  {
   "cell_type": "code",
   "execution_count": 23,
   "metadata": {},
   "outputs": [
    {
     "name": "stdout",
     "output_type": "stream",
     "text": [
      "<class 'pandas.core.frame.DataFrame'>\n",
      "Int64Index: 66092 entries, 0 to 115087\n",
      "Data columns (total 13 columns):\n",
      "Animal ID           66092 non-null object\n",
      "Name                66092 non-null object\n",
      "DateTime            66092 non-null object\n",
      "MonthYear           66092 non-null object\n",
      "Found Location      66092 non-null object\n",
      "Intake Type         66092 non-null object\n",
      "Intake Condition    66092 non-null object\n",
      "Animal Type         66092 non-null object\n",
      "Sex upon Intake     66092 non-null object\n",
      "Age upon Intake     66092 non-null object\n",
      "Breed               66092 non-null object\n",
      "Color               66092 non-null object\n",
      "Age in Years        66092 non-null int64\n",
      "dtypes: int64(1), object(12)\n",
      "memory usage: 7.1+ MB\n"
     ]
    }
   ],
   "source": [
    "# Code here to check your work\n",
    "years_df.info()"
   ]
  },
  {
   "cell_type": "code",
   "execution_count": 24,
   "metadata": {},
   "outputs": [
    {
     "data": {
      "text/plain": [
       "count    66092.000000\n",
       "mean         3.422835\n",
       "std          3.169188\n",
       "min         -3.000000\n",
       "25%          1.000000\n",
       "50%          2.000000\n",
       "75%          5.000000\n",
       "max         25.000000\n",
       "Name: Age in Years, dtype: float64"
      ]
     },
     "execution_count": 24,
     "metadata": {},
     "output_type": "execute_result"
    }
   ],
   "source": [
    "# Code here to check some statistics on our now-numeric column\n",
    "years_df[\"Age in Years\"].describe()"
   ]
  },
  {
   "cell_type": "code",
   "execution_count": 25,
   "metadata": {},
   "outputs": [
    {
     "data": {
      "text/plain": [
       " 1     20496\n",
       " 2     17152\n",
       " 3      6929\n",
       " 4      4189\n",
       " 5      3811\n",
       " 6      2562\n",
       " 7      2177\n",
       " 8      2130\n",
       " 10     1692\n",
       " 9      1240\n",
       " 12      828\n",
       " 0       702\n",
       " 11      693\n",
       " 13      524\n",
       " 14      354\n",
       " 15      307\n",
       " 16      133\n",
       " 17       74\n",
       " 18       46\n",
       " 19       24\n",
       " 20       17\n",
       " 22        4\n",
       "-1         4\n",
       "-3         1\n",
       " 21        1\n",
       " 24        1\n",
       " 25        1\n",
       "Name: Age in Years, dtype: int64"
      ]
     },
     "execution_count": 25,
     "metadata": {},
     "output_type": "execute_result"
    }
   ],
   "source": [
    "# Code here to check the unique values - in order!\n",
    "years_df[\"Age in Years\"].value_counts()"
   ]
  },
  {
   "cell_type": "code",
   "execution_count": 26,
   "metadata": {},
   "outputs": [
    {
     "data": {
      "text/plain": [
       "3.4228348362888097"
      ]
     },
     "execution_count": 26,
     "metadata": {},
     "output_type": "execute_result"
    }
   ],
   "source": [
    "# Let's check the mean for our now-numeric column\n",
    "years_df[\"Age in Years\"].mean()"
   ]
  },
  {
   "cell_type": "code",
   "execution_count": 27,
   "metadata": {
    "scrolled": false
   },
   "outputs": [
    {
     "data": {
      "text/plain": [
       "2.0"
      ]
     },
     "execution_count": 27,
     "metadata": {},
     "output_type": "execute_result"
    }
   ],
   "source": [
    "# Now let's check the median\n",
    "years_df[\"Age in Years\"].median()"
   ]
  },
  {
   "cell_type": "code",
   "execution_count": 41,
   "metadata": {},
   "outputs": [
    {
     "data": {
      "image/png": "[encoded data removed]",
      "text/plain": [
       "<Figure size 432x288 with 1 Axes>"
      ]
     },
     "metadata": {
      "needs_background": "light"
     },
     "output_type": "display_data"
    }
   ],
   "source": [
    "import matplotlib.pyplot as plt\n",
    "import seaborn as sns\n",
    "\n",
    "sns.distplot(years_df[\"Age in Years\"])\n",
    "plt.show()"
   ]
  },
  {
   "cell_type": "markdown",
   "metadata": {},
   "source": [
    "Let's discuss this column - what does it mean that the mean and median are different? How will that change if we remove some of the nonsense numbers?\n",
    "\n",
    "- "
   ]
  },
  {
   "cell_type": "code",
   "execution_count": 29,
   "metadata": {
    "scrolled": true
   },
   "outputs": [
    {
     "name": "stderr",
     "output_type": "stream",
     "text": [
      "/opt/anaconda3/envs/learn-env/lib/python3.6/site-packages/pandas/core/generic.py:6786: SettingWithCopyWarning: \n",
      "A value is trying to be set on a copy of a slice from a DataFrame\n",
      "\n",
      "See the caveats in the documentation: http://pandas.pydata.org/pandas-docs/stable/user_guide/indexing.html#returning-a-view-versus-a-copy\n",
      "  self._update_inplace(new_data)\n"
     ]
    }
   ],
   "source": [
    "# Code here to deal with those nonsense numbers\n",
    "nonsense_years = [-3, -1, 0]\n",
    "year_median = years_df[\"Age in Years\"].median()\n",
    "\n",
    "years_df[\"Age in Years\"].replace(to_replace=nonsense_years, \n",
    "                                 value=year_median, \n",
    "                                 inplace=True)"
   ]
  },
  {
   "cell_type": "code",
   "execution_count": 30,
   "metadata": {
    "scrolled": true
   },
   "outputs": [
    {
     "data": {
      "text/plain": [
       "array([ 2,  8,  4,  6, 14, 18,  1,  5,  3, 15,  7, 12, 10,  9, 11, 13, 17,\n",
       "       19, 16, 20, 22, 21, 25, 24])"
      ]
     },
     "execution_count": 30,
     "metadata": {},
     "output_type": "execute_result"
    }
   ],
   "source": [
    "# Sanity check\n",
    "years_df[\"Age in Years\"].unique()"
   ]
  },
  {
   "cell_type": "code",
   "execution_count": 31,
   "metadata": {},
   "outputs": [
    {
     "name": "stdout",
     "output_type": "stream",
     "text": [
      "3.444335169158143\n",
      "2.0\n"
     ]
    }
   ],
   "source": [
    "# Code here to re-check your mean/median values\n",
    "print(years_df[\"Age in Years\"].mean())\n",
    "print(years_df[\"Age in Years\"].median())"
   ]
  },
  {
   "cell_type": "markdown",
   "metadata": {},
   "source": [
    "## Dealing with Duplicates\n",
    "\n",
    "How can we check for duplicates?"
   ]
  },
  {
   "cell_type": "code",
   "execution_count": 32,
   "metadata": {},
   "outputs": [
    {
     "data": {
      "text/html": [
       "<div>\n",
       "<style scoped>\n",
       "    .dataframe tbody tr th:only-of-type {\n",
       "        vertical-align: middle;\n",
       "    }\n",
       "\n",
       "    .dataframe tbody tr th {\n",
       "        vertical-align: top;\n",
       "    }\n",
       "\n",
       "    .dataframe thead th {\n",
       "        text-align: right;\n",
       "    }\n",
       "</style>\n",
       "<table border=\"1\" class=\"dataframe\">\n",
       "  <thead>\n",
       "    <tr style=\"text-align: right;\">\n",
       "      <th></th>\n",
       "      <th>Animal ID</th>\n",
       "      <th>Name</th>\n",
       "      <th>DateTime</th>\n",
       "      <th>MonthYear</th>\n",
       "      <th>Found Location</th>\n",
       "      <th>Intake Type</th>\n",
       "      <th>Intake Condition</th>\n",
       "      <th>Animal Type</th>\n",
       "      <th>Sex upon Intake</th>\n",
       "      <th>Age upon Intake</th>\n",
       "      <th>Breed</th>\n",
       "      <th>Color</th>\n",
       "    </tr>\n",
       "  </thead>\n",
       "  <tbody>\n",
       "    <tr>\n",
       "      <td>0</td>\n",
       "      <td>A786884</td>\n",
       "      <td>*Brock</td>\n",
       "      <td>01/03/2019 04:19:00 PM</td>\n",
       "      <td>01/03/2019 04:19:00 PM</td>\n",
       "      <td>2501 Magin Meadow Dr in Austin (TX)</td>\n",
       "      <td>Stray</td>\n",
       "      <td>Normal</td>\n",
       "      <td>Dog</td>\n",
       "      <td>Neutered Male</td>\n",
       "      <td>2 years</td>\n",
       "      <td>Beagle Mix</td>\n",
       "      <td>Tricolor</td>\n",
       "    </tr>\n",
       "    <tr>\n",
       "      <td>1</td>\n",
       "      <td>A706918</td>\n",
       "      <td>Belle</td>\n",
       "      <td>07/05/2015 12:59:00 PM</td>\n",
       "      <td>07/05/2015 12:59:00 PM</td>\n",
       "      <td>9409 Bluegrass Dr in Austin (TX)</td>\n",
       "      <td>Stray</td>\n",
       "      <td>Normal</td>\n",
       "      <td>Dog</td>\n",
       "      <td>Spayed Female</td>\n",
       "      <td>8 years</td>\n",
       "      <td>English Springer Spaniel</td>\n",
       "      <td>White/Liver</td>\n",
       "    </tr>\n",
       "    <tr>\n",
       "      <td>2</td>\n",
       "      <td>A724273</td>\n",
       "      <td>Runster</td>\n",
       "      <td>04/14/2016 06:43:00 PM</td>\n",
       "      <td>04/14/2016 06:43:00 PM</td>\n",
       "      <td>2818 Palomino Trail in Austin (TX)</td>\n",
       "      <td>Stray</td>\n",
       "      <td>Normal</td>\n",
       "      <td>Dog</td>\n",
       "      <td>Intact Male</td>\n",
       "      <td>11 months</td>\n",
       "      <td>Basenji Mix</td>\n",
       "      <td>Sable/White</td>\n",
       "    </tr>\n",
       "    <tr>\n",
       "      <td>3</td>\n",
       "      <td>A665644</td>\n",
       "      <td>No name</td>\n",
       "      <td>10/21/2013 07:59:00 AM</td>\n",
       "      <td>10/21/2013 07:59:00 AM</td>\n",
       "      <td>Austin (TX)</td>\n",
       "      <td>Stray</td>\n",
       "      <td>Sick</td>\n",
       "      <td>Cat</td>\n",
       "      <td>Intact Female</td>\n",
       "      <td>4 weeks</td>\n",
       "      <td>Domestic Shorthair Mix</td>\n",
       "      <td>Calico</td>\n",
       "    </tr>\n",
       "    <tr>\n",
       "      <td>4</td>\n",
       "      <td>A682524</td>\n",
       "      <td>Rio</td>\n",
       "      <td>06/29/2014 10:38:00 AM</td>\n",
       "      <td>06/29/2014 10:38:00 AM</td>\n",
       "      <td>800 Grove Blvd in Austin (TX)</td>\n",
       "      <td>Stray</td>\n",
       "      <td>Normal</td>\n",
       "      <td>Dog</td>\n",
       "      <td>Neutered Male</td>\n",
       "      <td>4 years</td>\n",
       "      <td>Doberman Pinsch/Australian Cattle Dog</td>\n",
       "      <td>Tan/Gray</td>\n",
       "    </tr>\n",
       "  </tbody>\n",
       "</table>\n",
       "</div>"
      ],
      "text/plain": [
       "  Animal ID     Name                DateTime               MonthYear  \\\n",
       "0   A786884   *Brock  01/03/2019 04:19:00 PM  01/03/2019 04:19:00 PM   \n",
       "1   A706918    Belle  07/05/2015 12:59:00 PM  07/05/2015 12:59:00 PM   \n",
       "2   A724273  Runster  04/14/2016 06:43:00 PM  04/14/2016 06:43:00 PM   \n",
       "3   A665644  No name  10/21/2013 07:59:00 AM  10/21/2013 07:59:00 AM   \n",
       "4   A682524      Rio  06/29/2014 10:38:00 AM  06/29/2014 10:38:00 AM   \n",
       "\n",
       "                        Found Location Intake Type Intake Condition  \\\n",
       "0  2501 Magin Meadow Dr in Austin (TX)       Stray           Normal   \n",
       "1     9409 Bluegrass Dr in Austin (TX)       Stray           Normal   \n",
       "2   2818 Palomino Trail in Austin (TX)       Stray           Normal   \n",
       "3                          Austin (TX)       Stray             Sick   \n",
       "4        800 Grove Blvd in Austin (TX)       Stray           Normal   \n",
       "\n",
       "  Animal Type Sex upon Intake Age upon Intake  \\\n",
       "0         Dog   Neutered Male         2 years   \n",
       "1         Dog   Spayed Female         8 years   \n",
       "2         Dog     Intact Male       11 months   \n",
       "3         Cat   Intact Female         4 weeks   \n",
       "4         Dog   Neutered Male         4 years   \n",
       "\n",
       "                                   Breed        Color  \n",
       "0                             Beagle Mix     Tricolor  \n",
       "1               English Springer Spaniel  White/Liver  \n",
       "2                            Basenji Mix  Sable/White  \n",
       "3                 Domestic Shorthair Mix       Calico  \n",
       "4  Doberman Pinsch/Australian Cattle Dog     Tan/Gray  "
      ]
     },
     "execution_count": 32,
     "metadata": {},
     "output_type": "execute_result"
    }
   ],
   "source": [
    "intakes.head()"
   ]
  },
  {
   "cell_type": "code",
   "execution_count": 33,
   "metadata": {},
   "outputs": [
    {
     "data": {
      "text/plain": [
       "15"
      ]
     },
     "execution_count": 33,
     "metadata": {},
     "output_type": "execute_result"
    }
   ],
   "source": [
    "# Code here to check for duplicates\n",
    "intakes.duplicated().sum()"
   ]
  },
  {
   "cell_type": "code",
   "execution_count": 34,
   "metadata": {
    "scrolled": false
   },
   "outputs": [
    {
     "data": {
      "text/html": [
       "<div>\n",
       "<style scoped>\n",
       "    .dataframe tbody tr th:only-of-type {\n",
       "        vertical-align: middle;\n",
       "    }\n",
       "\n",
       "    .dataframe tbody tr th {\n",
       "        vertical-align: top;\n",
       "    }\n",
       "\n",
       "    .dataframe thead th {\n",
       "        text-align: right;\n",
       "    }\n",
       "</style>\n",
       "<table border=\"1\" class=\"dataframe\">\n",
       "  <thead>\n",
       "    <tr style=\"text-align: right;\">\n",
       "      <th></th>\n",
       "      <th>Animal ID</th>\n",
       "      <th>Name</th>\n",
       "      <th>DateTime</th>\n",
       "      <th>MonthYear</th>\n",
       "      <th>Found Location</th>\n",
       "      <th>Intake Type</th>\n",
       "      <th>Intake Condition</th>\n",
       "      <th>Animal Type</th>\n",
       "      <th>Sex upon Intake</th>\n",
       "      <th>Age upon Intake</th>\n",
       "      <th>Breed</th>\n",
       "      <th>Color</th>\n",
       "    </tr>\n",
       "  </thead>\n",
       "  <tbody>\n",
       "    <tr>\n",
       "      <td>4985</td>\n",
       "      <td>A696688</td>\n",
       "      <td>Mari</td>\n",
       "      <td>02/10/2015 11:00:00 AM</td>\n",
       "      <td>02/10/2015 11:00:00 AM</td>\n",
       "      <td>Austin (TX)</td>\n",
       "      <td>Owner Surrender</td>\n",
       "      <td>Normal</td>\n",
       "      <td>Cat</td>\n",
       "      <td>Spayed Female</td>\n",
       "      <td>3 years</td>\n",
       "      <td>Domestic Shorthair Mix</td>\n",
       "      <td>Calico/White</td>\n",
       "    </tr>\n",
       "    <tr>\n",
       "      <td>4986</td>\n",
       "      <td>A696688</td>\n",
       "      <td>Mari</td>\n",
       "      <td>02/10/2015 11:00:00 AM</td>\n",
       "      <td>02/10/2015 11:00:00 AM</td>\n",
       "      <td>Austin (TX)</td>\n",
       "      <td>Owner Surrender</td>\n",
       "      <td>Normal</td>\n",
       "      <td>Cat</td>\n",
       "      <td>Spayed Female</td>\n",
       "      <td>3 years</td>\n",
       "      <td>Domestic Shorthair Mix</td>\n",
       "      <td>Calico/White</td>\n",
       "    </tr>\n",
       "    <tr>\n",
       "      <td>6505</td>\n",
       "      <td>A727043</td>\n",
       "      <td>*Larry</td>\n",
       "      <td>05/17/2016 03:46:00 PM</td>\n",
       "      <td>05/17/2016 03:46:00 PM</td>\n",
       "      <td>9515 N Lamar Blvd in Austin (TX)</td>\n",
       "      <td>Stray</td>\n",
       "      <td>Normal</td>\n",
       "      <td>Cat</td>\n",
       "      <td>Intact Male</td>\n",
       "      <td>1 year</td>\n",
       "      <td>Domestic Shorthair Mix</td>\n",
       "      <td>Blue/White</td>\n",
       "    </tr>\n",
       "    <tr>\n",
       "      <td>6506</td>\n",
       "      <td>A727043</td>\n",
       "      <td>*Larry</td>\n",
       "      <td>05/17/2016 03:46:00 PM</td>\n",
       "      <td>05/17/2016 03:46:00 PM</td>\n",
       "      <td>9515 N Lamar Blvd in Austin (TX)</td>\n",
       "      <td>Stray</td>\n",
       "      <td>Normal</td>\n",
       "      <td>Cat</td>\n",
       "      <td>Intact Male</td>\n",
       "      <td>1 year</td>\n",
       "      <td>Domestic Shorthair Mix</td>\n",
       "      <td>Blue/White</td>\n",
       "    </tr>\n",
       "    <tr>\n",
       "      <td>8488</td>\n",
       "      <td>A761936</td>\n",
       "      <td>No name</td>\n",
       "      <td>11/12/2017 11:16:00 AM</td>\n",
       "      <td>11/12/2017 11:16:00 AM</td>\n",
       "      <td>8400 Old Bee Caves in Austin (TX)</td>\n",
       "      <td>Stray</td>\n",
       "      <td>Normal</td>\n",
       "      <td>Dog</td>\n",
       "      <td>Intact Male</td>\n",
       "      <td>9 months</td>\n",
       "      <td>Scottish Terrier Mix</td>\n",
       "      <td>Brown Brindle</td>\n",
       "    </tr>\n",
       "    <tr>\n",
       "      <td>8489</td>\n",
       "      <td>A761936</td>\n",
       "      <td>No name</td>\n",
       "      <td>11/12/2017 11:16:00 AM</td>\n",
       "      <td>11/12/2017 11:16:00 AM</td>\n",
       "      <td>8400 Old Bee Caves in Austin (TX)</td>\n",
       "      <td>Stray</td>\n",
       "      <td>Normal</td>\n",
       "      <td>Dog</td>\n",
       "      <td>Intact Male</td>\n",
       "      <td>9 months</td>\n",
       "      <td>Scottish Terrier Mix</td>\n",
       "      <td>Brown Brindle</td>\n",
       "    </tr>\n",
       "    <tr>\n",
       "      <td>11276</td>\n",
       "      <td>A561806</td>\n",
       "      <td>Dasia</td>\n",
       "      <td>06/05/2017 11:36:00 AM</td>\n",
       "      <td>06/05/2017 11:36:00 AM</td>\n",
       "      <td>2002 Nightview in Austin (TX)</td>\n",
       "      <td>Stray</td>\n",
       "      <td>Normal</td>\n",
       "      <td>Dog</td>\n",
       "      <td>Spayed Female</td>\n",
       "      <td>8 years</td>\n",
       "      <td>Pit Bull Mix</td>\n",
       "      <td>Brown Brindle/White</td>\n",
       "    </tr>\n",
       "    <tr>\n",
       "      <td>11277</td>\n",
       "      <td>A561806</td>\n",
       "      <td>Dasia</td>\n",
       "      <td>06/05/2017 11:36:00 AM</td>\n",
       "      <td>06/05/2017 11:36:00 AM</td>\n",
       "      <td>2002 Nightview in Austin (TX)</td>\n",
       "      <td>Stray</td>\n",
       "      <td>Normal</td>\n",
       "      <td>Dog</td>\n",
       "      <td>Spayed Female</td>\n",
       "      <td>8 years</td>\n",
       "      <td>Pit Bull Mix</td>\n",
       "      <td>Brown Brindle/White</td>\n",
       "    </tr>\n",
       "    <tr>\n",
       "      <td>19295</td>\n",
       "      <td>A773428</td>\n",
       "      <td>*Atreyu</td>\n",
       "      <td>05/31/2018 06:38:00 PM</td>\n",
       "      <td>05/31/2018 06:38:00 PM</td>\n",
       "      <td>7Th And Gonzalez in Austin (TX)</td>\n",
       "      <td>Stray</td>\n",
       "      <td>Normal</td>\n",
       "      <td>Cat</td>\n",
       "      <td>Intact Male</td>\n",
       "      <td>3 weeks</td>\n",
       "      <td>Domestic Shorthair Mix</td>\n",
       "      <td>Orange Tabby</td>\n",
       "    </tr>\n",
       "    <tr>\n",
       "      <td>19296</td>\n",
       "      <td>A773428</td>\n",
       "      <td>*Atreyu</td>\n",
       "      <td>05/31/2018 06:38:00 PM</td>\n",
       "      <td>05/31/2018 06:38:00 PM</td>\n",
       "      <td>7Th And Gonzalez in Austin (TX)</td>\n",
       "      <td>Stray</td>\n",
       "      <td>Normal</td>\n",
       "      <td>Cat</td>\n",
       "      <td>Intact Male</td>\n",
       "      <td>3 weeks</td>\n",
       "      <td>Domestic Shorthair Mix</td>\n",
       "      <td>Orange Tabby</td>\n",
       "    </tr>\n",
       "    <tr>\n",
       "      <td>37436</td>\n",
       "      <td>A735395</td>\n",
       "      <td>Owl</td>\n",
       "      <td>09/23/2016 12:00:00 PM</td>\n",
       "      <td>09/23/2016 12:00:00 PM</td>\n",
       "      <td>Austin (TX)</td>\n",
       "      <td>Owner Surrender</td>\n",
       "      <td>Normal</td>\n",
       "      <td>Cat</td>\n",
       "      <td>Intact Female</td>\n",
       "      <td>10 months</td>\n",
       "      <td>Domestic Shorthair Mix</td>\n",
       "      <td>Brown Tabby</td>\n",
       "    </tr>\n",
       "    <tr>\n",
       "      <td>37437</td>\n",
       "      <td>A735395</td>\n",
       "      <td>Owl</td>\n",
       "      <td>09/23/2016 12:00:00 PM</td>\n",
       "      <td>09/23/2016 12:00:00 PM</td>\n",
       "      <td>Austin (TX)</td>\n",
       "      <td>Owner Surrender</td>\n",
       "      <td>Normal</td>\n",
       "      <td>Cat</td>\n",
       "      <td>Intact Female</td>\n",
       "      <td>10 months</td>\n",
       "      <td>Domestic Shorthair Mix</td>\n",
       "      <td>Brown Tabby</td>\n",
       "    </tr>\n",
       "    <tr>\n",
       "      <td>43982</td>\n",
       "      <td>A698864</td>\n",
       "      <td>No name</td>\n",
       "      <td>03/19/2015 01:37:00 PM</td>\n",
       "      <td>03/19/2015 01:37:00 PM</td>\n",
       "      <td>12129 Glass Rd in Travis (TX)</td>\n",
       "      <td>Wildlife</td>\n",
       "      <td>Injured</td>\n",
       "      <td>Other</td>\n",
       "      <td>Unknown</td>\n",
       "      <td>1 year</td>\n",
       "      <td>Skunk Mix</td>\n",
       "      <td>Black</td>\n",
       "    </tr>\n",
       "    <tr>\n",
       "      <td>43983</td>\n",
       "      <td>A698864</td>\n",
       "      <td>No name</td>\n",
       "      <td>03/19/2015 01:37:00 PM</td>\n",
       "      <td>03/19/2015 01:37:00 PM</td>\n",
       "      <td>12129 Glass Rd in Travis (TX)</td>\n",
       "      <td>Wildlife</td>\n",
       "      <td>Injured</td>\n",
       "      <td>Other</td>\n",
       "      <td>Unknown</td>\n",
       "      <td>1 year</td>\n",
       "      <td>Skunk Mix</td>\n",
       "      <td>Black</td>\n",
       "    </tr>\n",
       "    <tr>\n",
       "      <td>44906</td>\n",
       "      <td>A764464</td>\n",
       "      <td>Pepper</td>\n",
       "      <td>09/17/2018 03:09:00 PM</td>\n",
       "      <td>09/17/2018 03:09:00 PM</td>\n",
       "      <td>Del Valle (TX)</td>\n",
       "      <td>Owner Surrender</td>\n",
       "      <td>Normal</td>\n",
       "      <td>Dog</td>\n",
       "      <td>Spayed Female</td>\n",
       "      <td>11 months</td>\n",
       "      <td>Soft Coated Wheaten Terrier Mix</td>\n",
       "      <td>Black/Tricolor</td>\n",
       "    </tr>\n",
       "    <tr>\n",
       "      <td>44907</td>\n",
       "      <td>A764464</td>\n",
       "      <td>Pepper</td>\n",
       "      <td>09/17/2018 03:09:00 PM</td>\n",
       "      <td>09/17/2018 03:09:00 PM</td>\n",
       "      <td>Del Valle (TX)</td>\n",
       "      <td>Owner Surrender</td>\n",
       "      <td>Normal</td>\n",
       "      <td>Dog</td>\n",
       "      <td>Spayed Female</td>\n",
       "      <td>11 months</td>\n",
       "      <td>Soft Coated Wheaten Terrier Mix</td>\n",
       "      <td>Black/Tricolor</td>\n",
       "    </tr>\n",
       "    <tr>\n",
       "      <td>47282</td>\n",
       "      <td>A668183</td>\n",
       "      <td>Nacha</td>\n",
       "      <td>06/27/2014 11:34:00 AM</td>\n",
       "      <td>06/27/2014 11:34:00 AM</td>\n",
       "      <td>Austin (TX)</td>\n",
       "      <td>Public Assist</td>\n",
       "      <td>Normal</td>\n",
       "      <td>Dog</td>\n",
       "      <td>Spayed Female</td>\n",
       "      <td>10 months</td>\n",
       "      <td>Dachshund Mix</td>\n",
       "      <td>Black/White</td>\n",
       "    </tr>\n",
       "    <tr>\n",
       "      <td>47283</td>\n",
       "      <td>A668183</td>\n",
       "      <td>Nacha</td>\n",
       "      <td>06/27/2014 11:34:00 AM</td>\n",
       "      <td>06/27/2014 11:34:00 AM</td>\n",
       "      <td>Austin (TX)</td>\n",
       "      <td>Public Assist</td>\n",
       "      <td>Normal</td>\n",
       "      <td>Dog</td>\n",
       "      <td>Spayed Female</td>\n",
       "      <td>10 months</td>\n",
       "      <td>Dachshund Mix</td>\n",
       "      <td>Black/White</td>\n",
       "    </tr>\n",
       "    <tr>\n",
       "      <td>48207</td>\n",
       "      <td>A681446</td>\n",
       "      <td>No name</td>\n",
       "      <td>06/16/2014 04:38:00 PM</td>\n",
       "      <td>06/16/2014 04:38:00 PM</td>\n",
       "      <td>6208 Tupelo Dr in Austin (TX)</td>\n",
       "      <td>Wildlife</td>\n",
       "      <td>Normal</td>\n",
       "      <td>Other</td>\n",
       "      <td>Unknown</td>\n",
       "      <td>1 year</td>\n",
       "      <td>Bat</td>\n",
       "      <td>Brown</td>\n",
       "    </tr>\n",
       "    <tr>\n",
       "      <td>48208</td>\n",
       "      <td>A681446</td>\n",
       "      <td>No name</td>\n",
       "      <td>06/16/2014 04:38:00 PM</td>\n",
       "      <td>06/16/2014 04:38:00 PM</td>\n",
       "      <td>6208 Tupelo Dr in Austin (TX)</td>\n",
       "      <td>Wildlife</td>\n",
       "      <td>Normal</td>\n",
       "      <td>Other</td>\n",
       "      <td>Unknown</td>\n",
       "      <td>1 year</td>\n",
       "      <td>Bat</td>\n",
       "      <td>Brown</td>\n",
       "    </tr>\n",
       "    <tr>\n",
       "      <td>51489</td>\n",
       "      <td>A695798</td>\n",
       "      <td>Jim</td>\n",
       "      <td>01/23/2015 11:48:00 AM</td>\n",
       "      <td>01/23/2015 11:48:00 AM</td>\n",
       "      <td>Austin (TX)</td>\n",
       "      <td>Owner Surrender</td>\n",
       "      <td>Sick</td>\n",
       "      <td>Cat</td>\n",
       "      <td>Neutered Male</td>\n",
       "      <td>10 months</td>\n",
       "      <td>Domestic Shorthair Mix</td>\n",
       "      <td>Orange</td>\n",
       "    </tr>\n",
       "    <tr>\n",
       "      <td>51490</td>\n",
       "      <td>A695798</td>\n",
       "      <td>Jim</td>\n",
       "      <td>01/23/2015 11:48:00 AM</td>\n",
       "      <td>01/23/2015 11:48:00 AM</td>\n",
       "      <td>Austin (TX)</td>\n",
       "      <td>Owner Surrender</td>\n",
       "      <td>Sick</td>\n",
       "      <td>Cat</td>\n",
       "      <td>Neutered Male</td>\n",
       "      <td>10 months</td>\n",
       "      <td>Domestic Shorthair Mix</td>\n",
       "      <td>Orange</td>\n",
       "    </tr>\n",
       "    <tr>\n",
       "      <td>55263</td>\n",
       "      <td>A748204</td>\n",
       "      <td>Bob</td>\n",
       "      <td>04/30/2017 04:24:00 PM</td>\n",
       "      <td>04/30/2017 04:24:00 PM</td>\n",
       "      <td>Austin (TX)</td>\n",
       "      <td>Owner Surrender</td>\n",
       "      <td>Normal</td>\n",
       "      <td>Cat</td>\n",
       "      <td>Intact Male</td>\n",
       "      <td>2 months</td>\n",
       "      <td>Domestic Shorthair Mix</td>\n",
       "      <td>White/Blue</td>\n",
       "    </tr>\n",
       "    <tr>\n",
       "      <td>55264</td>\n",
       "      <td>A748204</td>\n",
       "      <td>Bob</td>\n",
       "      <td>04/30/2017 04:24:00 PM</td>\n",
       "      <td>04/30/2017 04:24:00 PM</td>\n",
       "      <td>Austin (TX)</td>\n",
       "      <td>Owner Surrender</td>\n",
       "      <td>Normal</td>\n",
       "      <td>Cat</td>\n",
       "      <td>Intact Male</td>\n",
       "      <td>2 months</td>\n",
       "      <td>Domestic Shorthair Mix</td>\n",
       "      <td>White/Blue</td>\n",
       "    </tr>\n",
       "    <tr>\n",
       "      <td>83669</td>\n",
       "      <td>A782931</td>\n",
       "      <td>Mika</td>\n",
       "      <td>10/23/2018 12:29:00 PM</td>\n",
       "      <td>10/23/2018 12:29:00 PM</td>\n",
       "      <td>13309 Slow Poke Drive in Austin (TX)</td>\n",
       "      <td>Stray</td>\n",
       "      <td>Normal</td>\n",
       "      <td>Cat</td>\n",
       "      <td>Spayed Female</td>\n",
       "      <td>1 year</td>\n",
       "      <td>Domestic Shorthair Mix</td>\n",
       "      <td>Tortie</td>\n",
       "    </tr>\n",
       "    <tr>\n",
       "      <td>83670</td>\n",
       "      <td>A782931</td>\n",
       "      <td>Mika</td>\n",
       "      <td>10/23/2018 12:29:00 PM</td>\n",
       "      <td>10/23/2018 12:29:00 PM</td>\n",
       "      <td>13309 Slow Poke Drive in Austin (TX)</td>\n",
       "      <td>Stray</td>\n",
       "      <td>Normal</td>\n",
       "      <td>Cat</td>\n",
       "      <td>Spayed Female</td>\n",
       "      <td>1 year</td>\n",
       "      <td>Domestic Shorthair Mix</td>\n",
       "      <td>Tortie</td>\n",
       "    </tr>\n",
       "    <tr>\n",
       "      <td>85895</td>\n",
       "      <td>A755687</td>\n",
       "      <td>No name</td>\n",
       "      <td>08/07/2017 12:39:00 PM</td>\n",
       "      <td>08/07/2017 12:39:00 PM</td>\n",
       "      <td>505  Barton Springs in Austin (TX)</td>\n",
       "      <td>Wildlife</td>\n",
       "      <td>Normal</td>\n",
       "      <td>Other</td>\n",
       "      <td>Unknown</td>\n",
       "      <td>3 years</td>\n",
       "      <td>Bat Mix</td>\n",
       "      <td>Brown</td>\n",
       "    </tr>\n",
       "    <tr>\n",
       "      <td>85896</td>\n",
       "      <td>A755687</td>\n",
       "      <td>No name</td>\n",
       "      <td>08/07/2017 12:39:00 PM</td>\n",
       "      <td>08/07/2017 12:39:00 PM</td>\n",
       "      <td>505  Barton Springs in Austin (TX)</td>\n",
       "      <td>Wildlife</td>\n",
       "      <td>Normal</td>\n",
       "      <td>Other</td>\n",
       "      <td>Unknown</td>\n",
       "      <td>3 years</td>\n",
       "      <td>Bat Mix</td>\n",
       "      <td>Brown</td>\n",
       "    </tr>\n",
       "    <tr>\n",
       "      <td>102502</td>\n",
       "      <td>A797007</td>\n",
       "      <td>Ummi</td>\n",
       "      <td>06/08/2019 12:03:00 PM</td>\n",
       "      <td>06/08/2019 12:03:00 PM</td>\n",
       "      <td>Austin (TX)</td>\n",
       "      <td>Owner Surrender</td>\n",
       "      <td>Sick</td>\n",
       "      <td>Dog</td>\n",
       "      <td>Neutered Male</td>\n",
       "      <td>9 years</td>\n",
       "      <td>Miniature Poodle</td>\n",
       "      <td>White</td>\n",
       "    </tr>\n",
       "    <tr>\n",
       "      <td>104236</td>\n",
       "      <td>A797007</td>\n",
       "      <td>Ummi</td>\n",
       "      <td>06/08/2019 12:03:00 PM</td>\n",
       "      <td>06/08/2019 12:03:00 PM</td>\n",
       "      <td>Austin (TX)</td>\n",
       "      <td>Owner Surrender</td>\n",
       "      <td>Sick</td>\n",
       "      <td>Dog</td>\n",
       "      <td>Neutered Male</td>\n",
       "      <td>9 years</td>\n",
       "      <td>Miniature Poodle</td>\n",
       "      <td>White</td>\n",
       "    </tr>\n",
       "  </tbody>\n",
       "</table>\n",
       "</div>"
      ],
      "text/plain": [
       "       Animal ID     Name                DateTime               MonthYear  \\\n",
       "4985     A696688     Mari  02/10/2015 11:00:00 AM  02/10/2015 11:00:00 AM   \n",
       "4986     A696688     Mari  02/10/2015 11:00:00 AM  02/10/2015 11:00:00 AM   \n",
       "6505     A727043   *Larry  05/17/2016 03:46:00 PM  05/17/2016 03:46:00 PM   \n",
       "6506     A727043   *Larry  05/17/2016 03:46:00 PM  05/17/2016 03:46:00 PM   \n",
       "8488     A761936  No name  11/12/2017 11:16:00 AM  11/12/2017 11:16:00 AM   \n",
       "8489     A761936  No name  11/12/2017 11:16:00 AM  11/12/2017 11:16:00 AM   \n",
       "11276    A561806    Dasia  06/05/2017 11:36:00 AM  06/05/2017 11:36:00 AM   \n",
       "11277    A561806    Dasia  06/05/2017 11:36:00 AM  06/05/2017 11:36:00 AM   \n",
       "19295    A773428  *Atreyu  05/31/2018 06:38:00 PM  05/31/2018 06:38:00 PM   \n",
       "19296    A773428  *Atreyu  05/31/2018 06:38:00 PM  05/31/2018 06:38:00 PM   \n",
       "37436    A735395      Owl  09/23/2016 12:00:00 PM  09/23/2016 12:00:00 PM   \n",
       "37437    A735395      Owl  09/23/2016 12:00:00 PM  09/23/2016 12:00:00 PM   \n",
       "43982    A698864  No name  03/19/2015 01:37:00 PM  03/19/2015 01:37:00 PM   \n",
       "43983    A698864  No name  03/19/2015 01:37:00 PM  03/19/2015 01:37:00 PM   \n",
       "44906    A764464   Pepper  09/17/2018 03:09:00 PM  09/17/2018 03:09:00 PM   \n",
       "44907    A764464   Pepper  09/17/2018 03:09:00 PM  09/17/2018 03:09:00 PM   \n",
       "47282    A668183    Nacha  06/27/2014 11:34:00 AM  06/27/2014 11:34:00 AM   \n",
       "47283    A668183    Nacha  06/27/2014 11:34:00 AM  06/27/2014 11:34:00 AM   \n",
       "48207    A681446  No name  06/16/2014 04:38:00 PM  06/16/2014 04:38:00 PM   \n",
       "48208    A681446  No name  06/16/2014 04:38:00 PM  06/16/2014 04:38:00 PM   \n",
       "51489    A695798      Jim  01/23/2015 11:48:00 AM  01/23/2015 11:48:00 AM   \n",
       "51490    A695798      Jim  01/23/2015 11:48:00 AM  01/23/2015 11:48:00 AM   \n",
       "55263    A748204      Bob  04/30/2017 04:24:00 PM  04/30/2017 04:24:00 PM   \n",
       "55264    A748204      Bob  04/30/2017 04:24:00 PM  04/30/2017 04:24:00 PM   \n",
       "83669    A782931     Mika  10/23/2018 12:29:00 PM  10/23/2018 12:29:00 PM   \n",
       "83670    A782931     Mika  10/23/2018 12:29:00 PM  10/23/2018 12:29:00 PM   \n",
       "85895    A755687  No name  08/07/2017 12:39:00 PM  08/07/2017 12:39:00 PM   \n",
       "85896    A755687  No name  08/07/2017 12:39:00 PM  08/07/2017 12:39:00 PM   \n",
       "102502   A797007     Ummi  06/08/2019 12:03:00 PM  06/08/2019 12:03:00 PM   \n",
       "104236   A797007     Ummi  06/08/2019 12:03:00 PM  06/08/2019 12:03:00 PM   \n",
       "\n",
       "                              Found Location      Intake Type  \\\n",
       "4985                             Austin (TX)  Owner Surrender   \n",
       "4986                             Austin (TX)  Owner Surrender   \n",
       "6505        9515 N Lamar Blvd in Austin (TX)            Stray   \n",
       "6506        9515 N Lamar Blvd in Austin (TX)            Stray   \n",
       "8488       8400 Old Bee Caves in Austin (TX)            Stray   \n",
       "8489       8400 Old Bee Caves in Austin (TX)            Stray   \n",
       "11276          2002 Nightview in Austin (TX)            Stray   \n",
       "11277          2002 Nightview in Austin (TX)            Stray   \n",
       "19295        7Th And Gonzalez in Austin (TX)            Stray   \n",
       "19296        7Th And Gonzalez in Austin (TX)            Stray   \n",
       "37436                            Austin (TX)  Owner Surrender   \n",
       "37437                            Austin (TX)  Owner Surrender   \n",
       "43982          12129 Glass Rd in Travis (TX)         Wildlife   \n",
       "43983          12129 Glass Rd in Travis (TX)         Wildlife   \n",
       "44906                         Del Valle (TX)  Owner Surrender   \n",
       "44907                         Del Valle (TX)  Owner Surrender   \n",
       "47282                            Austin (TX)    Public Assist   \n",
       "47283                            Austin (TX)    Public Assist   \n",
       "48207          6208 Tupelo Dr in Austin (TX)         Wildlife   \n",
       "48208          6208 Tupelo Dr in Austin (TX)         Wildlife   \n",
       "51489                            Austin (TX)  Owner Surrender   \n",
       "51490                            Austin (TX)  Owner Surrender   \n",
       "55263                            Austin (TX)  Owner Surrender   \n",
       "55264                            Austin (TX)  Owner Surrender   \n",
       "83669   13309 Slow Poke Drive in Austin (TX)            Stray   \n",
       "83670   13309 Slow Poke Drive in Austin (TX)            Stray   \n",
       "85895     505  Barton Springs in Austin (TX)         Wildlife   \n",
       "85896     505  Barton Springs in Austin (TX)         Wildlife   \n",
       "102502                           Austin (TX)  Owner Surrender   \n",
       "104236                           Austin (TX)  Owner Surrender   \n",
       "\n",
       "       Intake Condition Animal Type Sex upon Intake Age upon Intake  \\\n",
       "4985             Normal         Cat   Spayed Female         3 years   \n",
       "4986             Normal         Cat   Spayed Female         3 years   \n",
       "6505             Normal         Cat     Intact Male          1 year   \n",
       "6506             Normal         Cat     Intact Male          1 year   \n",
       "8488             Normal         Dog     Intact Male        9 months   \n",
       "8489             Normal         Dog     Intact Male        9 months   \n",
       "11276            Normal         Dog   Spayed Female         8 years   \n",
       "11277            Normal         Dog   Spayed Female         8 years   \n",
       "19295            Normal         Cat     Intact Male         3 weeks   \n",
       "19296            Normal         Cat     Intact Male         3 weeks   \n",
       "37436            Normal         Cat   Intact Female       10 months   \n",
       "37437            Normal         Cat   Intact Female       10 months   \n",
       "43982           Injured       Other         Unknown          1 year   \n",
       "43983           Injured       Other         Unknown          1 year   \n",
       "44906            Normal         Dog   Spayed Female       11 months   \n",
       "44907            Normal         Dog   Spayed Female       11 months   \n",
       "47282            Normal         Dog   Spayed Female       10 months   \n",
       "47283            Normal         Dog   Spayed Female       10 months   \n",
       "48207            Normal       Other         Unknown          1 year   \n",
       "48208            Normal       Other         Unknown          1 year   \n",
       "51489              Sick         Cat   Neutered Male       10 months   \n",
       "51490              Sick         Cat   Neutered Male       10 months   \n",
       "55263            Normal         Cat     Intact Male        2 months   \n",
       "55264            Normal         Cat     Intact Male        2 months   \n",
       "83669            Normal         Cat   Spayed Female          1 year   \n",
       "83670            Normal         Cat   Spayed Female          1 year   \n",
       "85895            Normal       Other         Unknown         3 years   \n",
       "85896            Normal       Other         Unknown         3 years   \n",
       "102502             Sick         Dog   Neutered Male         9 years   \n",
       "104236             Sick         Dog   Neutered Male         9 years   \n",
       "\n",
       "                                  Breed                Color  \n",
       "4985             Domestic Shorthair Mix         Calico/White  \n",
       "4986             Domestic Shorthair Mix         Calico/White  \n",
       "6505             Domestic Shorthair Mix           Blue/White  \n",
       "6506             Domestic Shorthair Mix           Blue/White  \n",
       "8488               Scottish Terrier Mix        Brown Brindle  \n",
       "8489               Scottish Terrier Mix        Brown Brindle  \n",
       "11276                      Pit Bull Mix  Brown Brindle/White  \n",
       "11277                      Pit Bull Mix  Brown Brindle/White  \n",
       "19295            Domestic Shorthair Mix         Orange Tabby  \n",
       "19296            Domestic Shorthair Mix         Orange Tabby  \n",
       "37436            Domestic Shorthair Mix          Brown Tabby  \n",
       "37437            Domestic Shorthair Mix          Brown Tabby  \n",
       "43982                         Skunk Mix                Black  \n",
       "43983                         Skunk Mix                Black  \n",
       "44906   Soft Coated Wheaten Terrier Mix       Black/Tricolor  \n",
       "44907   Soft Coated Wheaten Terrier Mix       Black/Tricolor  \n",
       "47282                     Dachshund Mix          Black/White  \n",
       "47283                     Dachshund Mix          Black/White  \n",
       "48207                               Bat                Brown  \n",
       "48208                               Bat                Brown  \n",
       "51489            Domestic Shorthair Mix               Orange  \n",
       "51490            Domestic Shorthair Mix               Orange  \n",
       "55263            Domestic Shorthair Mix           White/Blue  \n",
       "55264            Domestic Shorthair Mix           White/Blue  \n",
       "83669            Domestic Shorthair Mix               Tortie  \n",
       "83670            Domestic Shorthair Mix               Tortie  \n",
       "85895                           Bat Mix                Brown  \n",
       "85896                           Bat Mix                Brown  \n",
       "102502                 Miniature Poodle                White  \n",
       "104236                 Miniature Poodle                White  "
      ]
     },
     "execution_count": 34,
     "metadata": {},
     "output_type": "execute_result"
    }
   ],
   "source": [
    "# Code here to check what the duplicates look like\n",
    "intakes.loc[intakes.duplicated(keep=False) == True]"
   ]
  },
  {
   "cell_type": "code",
   "execution_count": 35,
   "metadata": {},
   "outputs": [],
   "source": [
    "# Code here to handle duplicates\n",
    "intakes.drop_duplicates(inplace=True)"
   ]
  },
  {
   "cell_type": "code",
   "execution_count": 36,
   "metadata": {},
   "outputs": [
    {
     "data": {
      "text/plain": [
       "0"
      ]
     },
     "execution_count": 36,
     "metadata": {},
     "output_type": "execute_result"
    }
   ],
   "source": [
    "# Sanity check\n",
    "intakes.duplicated().sum()"
   ]
  },
  {
   "cell_type": "markdown",
   "metadata": {},
   "source": [
    "## Merging Dataframes\n",
    "\n",
    "We were given two dataframes here - both an Intakes and an Outcomes CSV. Let's merge them!\n",
    "\n",
    "![Merge diagram from Data Science Made Simple](http://www.datasciencemadesimple.com/wp-content/uploads/2017/09/join-or-merge-in-python-pandas-1.png)\n",
    "\n",
    "[Image from Data Science Made Simple's post on Joining/Merging Pandas Data Frames](http://www.datasciencemadesimple.com/join-merge-data-frames-pandas-python/)"
   ]
  },
  {
   "cell_type": "code",
   "execution_count": 47,
   "metadata": {},
   "outputs": [
    {
     "data": {
      "text/html": [
       "<div>\n",
       "<style scoped>\n",
       "    .dataframe tbody tr th:only-of-type {\n",
       "        vertical-align: middle;\n",
       "    }\n",
       "\n",
       "    .dataframe tbody tr th {\n",
       "        vertical-align: top;\n",
       "    }\n",
       "\n",
       "    .dataframe thead th {\n",
       "        text-align: right;\n",
       "    }\n",
       "</style>\n",
       "<table border=\"1\" class=\"dataframe\">\n",
       "  <thead>\n",
       "    <tr style=\"text-align: right;\">\n",
       "      <th></th>\n",
       "      <th>Animal ID</th>\n",
       "      <th>Name</th>\n",
       "      <th>DateTime</th>\n",
       "      <th>MonthYear</th>\n",
       "      <th>Found Location</th>\n",
       "      <th>Intake Type</th>\n",
       "      <th>Intake Condition</th>\n",
       "      <th>Animal Type</th>\n",
       "      <th>Sex upon Intake</th>\n",
       "      <th>Age upon Intake</th>\n",
       "      <th>Breed</th>\n",
       "      <th>Color</th>\n",
       "    </tr>\n",
       "  </thead>\n",
       "  <tbody>\n",
       "    <tr>\n",
       "      <td>0</td>\n",
       "      <td>A786884</td>\n",
       "      <td>*Brock</td>\n",
       "      <td>01/03/2019 04:19:00 PM</td>\n",
       "      <td>01/03/2019 04:19:00 PM</td>\n",
       "      <td>2501 Magin Meadow Dr in Austin (TX)</td>\n",
       "      <td>Stray</td>\n",
       "      <td>Normal</td>\n",
       "      <td>Dog</td>\n",
       "      <td>Neutered Male</td>\n",
       "      <td>2 years</td>\n",
       "      <td>Beagle Mix</td>\n",
       "      <td>Tricolor</td>\n",
       "    </tr>\n",
       "    <tr>\n",
       "      <td>1</td>\n",
       "      <td>A706918</td>\n",
       "      <td>Belle</td>\n",
       "      <td>07/05/2015 12:59:00 PM</td>\n",
       "      <td>07/05/2015 12:59:00 PM</td>\n",
       "      <td>9409 Bluegrass Dr in Austin (TX)</td>\n",
       "      <td>Stray</td>\n",
       "      <td>Normal</td>\n",
       "      <td>Dog</td>\n",
       "      <td>Spayed Female</td>\n",
       "      <td>8 years</td>\n",
       "      <td>English Springer Spaniel</td>\n",
       "      <td>White/Liver</td>\n",
       "    </tr>\n",
       "    <tr>\n",
       "      <td>2</td>\n",
       "      <td>A724273</td>\n",
       "      <td>Runster</td>\n",
       "      <td>04/14/2016 06:43:00 PM</td>\n",
       "      <td>04/14/2016 06:43:00 PM</td>\n",
       "      <td>2818 Palomino Trail in Austin (TX)</td>\n",
       "      <td>Stray</td>\n",
       "      <td>Normal</td>\n",
       "      <td>Dog</td>\n",
       "      <td>Intact Male</td>\n",
       "      <td>11 months</td>\n",
       "      <td>Basenji Mix</td>\n",
       "      <td>Sable/White</td>\n",
       "    </tr>\n",
       "    <tr>\n",
       "      <td>3</td>\n",
       "      <td>A665644</td>\n",
       "      <td>No name</td>\n",
       "      <td>10/21/2013 07:59:00 AM</td>\n",
       "      <td>10/21/2013 07:59:00 AM</td>\n",
       "      <td>Austin (TX)</td>\n",
       "      <td>Stray</td>\n",
       "      <td>Sick</td>\n",
       "      <td>Cat</td>\n",
       "      <td>Intact Female</td>\n",
       "      <td>4 weeks</td>\n",
       "      <td>Domestic Shorthair Mix</td>\n",
       "      <td>Calico</td>\n",
       "    </tr>\n",
       "    <tr>\n",
       "      <td>4</td>\n",
       "      <td>A682524</td>\n",
       "      <td>Rio</td>\n",
       "      <td>06/29/2014 10:38:00 AM</td>\n",
       "      <td>06/29/2014 10:38:00 AM</td>\n",
       "      <td>800 Grove Blvd in Austin (TX)</td>\n",
       "      <td>Stray</td>\n",
       "      <td>Normal</td>\n",
       "      <td>Dog</td>\n",
       "      <td>Neutered Male</td>\n",
       "      <td>4 years</td>\n",
       "      <td>Doberman Pinsch/Australian Cattle Dog</td>\n",
       "      <td>Tan/Gray</td>\n",
       "    </tr>\n",
       "  </tbody>\n",
       "</table>\n",
       "</div>"
      ],
      "text/plain": [
       "  Animal ID     Name                DateTime               MonthYear  \\\n",
       "0   A786884   *Brock  01/03/2019 04:19:00 PM  01/03/2019 04:19:00 PM   \n",
       "1   A706918    Belle  07/05/2015 12:59:00 PM  07/05/2015 12:59:00 PM   \n",
       "2   A724273  Runster  04/14/2016 06:43:00 PM  04/14/2016 06:43:00 PM   \n",
       "3   A665644  No name  10/21/2013 07:59:00 AM  10/21/2013 07:59:00 AM   \n",
       "4   A682524      Rio  06/29/2014 10:38:00 AM  06/29/2014 10:38:00 AM   \n",
       "\n",
       "                        Found Location Intake Type Intake Condition  \\\n",
       "0  2501 Magin Meadow Dr in Austin (TX)       Stray           Normal   \n",
       "1     9409 Bluegrass Dr in Austin (TX)       Stray           Normal   \n",
       "2   2818 Palomino Trail in Austin (TX)       Stray           Normal   \n",
       "3                          Austin (TX)       Stray             Sick   \n",
       "4        800 Grove Blvd in Austin (TX)       Stray           Normal   \n",
       "\n",
       "  Animal Type Sex upon Intake Age upon Intake  \\\n",
       "0         Dog   Neutered Male         2 years   \n",
       "1         Dog   Spayed Female         8 years   \n",
       "2         Dog     Intact Male       11 months   \n",
       "3         Cat   Intact Female         4 weeks   \n",
       "4         Dog   Neutered Male         4 years   \n",
       "\n",
       "                                   Breed        Color  \n",
       "0                             Beagle Mix     Tricolor  \n",
       "1               English Springer Spaniel  White/Liver  \n",
       "2                            Basenji Mix  Sable/White  \n",
       "3                 Domestic Shorthair Mix       Calico  \n",
       "4  Doberman Pinsch/Australian Cattle Dog     Tan/Gray  "
      ]
     },
     "execution_count": 47,
     "metadata": {},
     "output_type": "execute_result"
    }
   ],
   "source": [
    "intakes.head()"
   ]
  },
  {
   "cell_type": "code",
   "execution_count": 42,
   "metadata": {},
   "outputs": [],
   "source": [
    "# Read in our outcomes csv\n",
    "outcomes = pd.read_csv(\"data/Austin_Animal_Center_Outcomes.csv\")"
   ]
  },
  {
   "cell_type": "code",
   "execution_count": 46,
   "metadata": {
    "scrolled": true
   },
   "outputs": [
    {
     "data": {
      "text/html": [
       "<div>\n",
       "<style scoped>\n",
       "    .dataframe tbody tr th:only-of-type {\n",
       "        vertical-align: middle;\n",
       "    }\n",
       "\n",
       "    .dataframe tbody tr th {\n",
       "        vertical-align: top;\n",
       "    }\n",
       "\n",
       "    .dataframe thead th {\n",
       "        text-align: right;\n",
       "    }\n",
       "</style>\n",
       "<table border=\"1\" class=\"dataframe\">\n",
       "  <thead>\n",
       "    <tr style=\"text-align: right;\">\n",
       "      <th></th>\n",
       "      <th>Animal ID</th>\n",
       "      <th>Name</th>\n",
       "      <th>DateTime</th>\n",
       "      <th>MonthYear</th>\n",
       "      <th>Date of Birth</th>\n",
       "      <th>Outcome Type</th>\n",
       "      <th>Outcome Subtype</th>\n",
       "      <th>Animal Type</th>\n",
       "      <th>Sex upon Outcome</th>\n",
       "      <th>Age upon Outcome</th>\n",
       "      <th>Breed</th>\n",
       "      <th>Color</th>\n",
       "    </tr>\n",
       "  </thead>\n",
       "  <tbody>\n",
       "    <tr>\n",
       "      <td>0</td>\n",
       "      <td>A789027</td>\n",
       "      <td>Lennie</td>\n",
       "      <td>02/17/2019 11:44:00 AM</td>\n",
       "      <td>02/17/2019 11:44:00 AM</td>\n",
       "      <td>02/13/2017</td>\n",
       "      <td>Adoption</td>\n",
       "      <td>NaN</td>\n",
       "      <td>Dog</td>\n",
       "      <td>Neutered Male</td>\n",
       "      <td>2 years</td>\n",
       "      <td>Chihuahua Shorthair Mix</td>\n",
       "      <td>Cream</td>\n",
       "    </tr>\n",
       "    <tr>\n",
       "      <td>1</td>\n",
       "      <td>A720371</td>\n",
       "      <td>Moose</td>\n",
       "      <td>02/13/2016 05:59:00 PM</td>\n",
       "      <td>02/13/2016 05:59:00 PM</td>\n",
       "      <td>10/08/2015</td>\n",
       "      <td>Adoption</td>\n",
       "      <td>NaN</td>\n",
       "      <td>Dog</td>\n",
       "      <td>Neutered Male</td>\n",
       "      <td>4 months</td>\n",
       "      <td>Anatol Shepherd/Labrador Retriever</td>\n",
       "      <td>Buff</td>\n",
       "    </tr>\n",
       "    <tr>\n",
       "      <td>2</td>\n",
       "      <td>A674754</td>\n",
       "      <td>NaN</td>\n",
       "      <td>03/18/2014 11:47:00 AM</td>\n",
       "      <td>03/18/2014 11:47:00 AM</td>\n",
       "      <td>03/12/2014</td>\n",
       "      <td>Transfer</td>\n",
       "      <td>Partner</td>\n",
       "      <td>Cat</td>\n",
       "      <td>Intact Male</td>\n",
       "      <td>6 days</td>\n",
       "      <td>Domestic Shorthair Mix</td>\n",
       "      <td>Orange Tabby</td>\n",
       "    </tr>\n",
       "    <tr>\n",
       "      <td>3</td>\n",
       "      <td>A689724</td>\n",
       "      <td>*Donatello</td>\n",
       "      <td>10/18/2014 06:52:00 PM</td>\n",
       "      <td>10/18/2014 06:52:00 PM</td>\n",
       "      <td>08/01/2014</td>\n",
       "      <td>Adoption</td>\n",
       "      <td>NaN</td>\n",
       "      <td>Cat</td>\n",
       "      <td>Neutered Male</td>\n",
       "      <td>2 months</td>\n",
       "      <td>Domestic Shorthair Mix</td>\n",
       "      <td>Black</td>\n",
       "    </tr>\n",
       "    <tr>\n",
       "      <td>4</td>\n",
       "      <td>A680969</td>\n",
       "      <td>*Zeus</td>\n",
       "      <td>08/05/2014 04:59:00 PM</td>\n",
       "      <td>08/05/2014 04:59:00 PM</td>\n",
       "      <td>06/03/2014</td>\n",
       "      <td>Adoption</td>\n",
       "      <td>NaN</td>\n",
       "      <td>Cat</td>\n",
       "      <td>Neutered Male</td>\n",
       "      <td>2 months</td>\n",
       "      <td>Domestic Shorthair Mix</td>\n",
       "      <td>White/Orange Tabby</td>\n",
       "    </tr>\n",
       "  </tbody>\n",
       "</table>\n",
       "</div>"
      ],
      "text/plain": [
       "  Animal ID        Name                DateTime               MonthYear  \\\n",
       "0   A789027      Lennie  02/17/2019 11:44:00 AM  02/17/2019 11:44:00 AM   \n",
       "1   A720371       Moose  02/13/2016 05:59:00 PM  02/13/2016 05:59:00 PM   \n",
       "2   A674754         NaN  03/18/2014 11:47:00 AM  03/18/2014 11:47:00 AM   \n",
       "3   A689724  *Donatello  10/18/2014 06:52:00 PM  10/18/2014 06:52:00 PM   \n",
       "4   A680969       *Zeus  08/05/2014 04:59:00 PM  08/05/2014 04:59:00 PM   \n",
       "\n",
       "  Date of Birth Outcome Type Outcome Subtype Animal Type Sex upon Outcome  \\\n",
       "0    02/13/2017     Adoption             NaN         Dog    Neutered Male   \n",
       "1    10/08/2015     Adoption             NaN         Dog    Neutered Male   \n",
       "2    03/12/2014     Transfer         Partner         Cat      Intact Male   \n",
       "3    08/01/2014     Adoption             NaN         Cat    Neutered Male   \n",
       "4    06/03/2014     Adoption             NaN         Cat    Neutered Male   \n",
       "\n",
       "  Age upon Outcome                               Breed               Color  \n",
       "0          2 years             Chihuahua Shorthair Mix               Cream  \n",
       "1         4 months  Anatol Shepherd/Labrador Retriever                Buff  \n",
       "2           6 days              Domestic Shorthair Mix        Orange Tabby  \n",
       "3         2 months              Domestic Shorthair Mix               Black  \n",
       "4         2 months              Domestic Shorthair Mix  White/Orange Tabby  "
      ]
     },
     "execution_count": 46,
     "metadata": {},
     "output_type": "execute_result"
    }
   ],
   "source": [
    "# Check out our outcomes data\n",
    "outcomes.head()"
   ]
  },
  {
   "cell_type": "code",
   "execution_count": 43,
   "metadata": {
    "scrolled": true
   },
   "outputs": [
    {
     "data": {
      "text/plain": [
       "A721033    33\n",
       "A718223    14\n",
       "A718877    12\n",
       "A706536    11\n",
       "A616444     9\n",
       "           ..\n",
       "A681995     1\n",
       "A715835     1\n",
       "A732934     1\n",
       "A755039     1\n",
       "A672792     1\n",
       "Name: Animal ID, Length: 103095, dtype: int64"
      ]
     },
     "execution_count": 43,
     "metadata": {},
     "output_type": "execute_result"
    }
   ],
   "source": [
    "outcomes[\"Animal ID\"].value_counts()"
   ]
  },
  {
   "cell_type": "code",
   "execution_count": 44,
   "metadata": {
    "scrolled": true
   },
   "outputs": [
    {
     "data": {
      "text/plain": [
       "14"
      ]
     },
     "execution_count": 44,
     "metadata": {},
     "output_type": "execute_result"
    }
   ],
   "source": [
    "len(outcomes.loc[outcomes[\"Animal ID\"] == \"A718223\"])"
   ]
  },
  {
   "cell_type": "code",
   "execution_count": 37,
   "metadata": {},
   "outputs": [
    {
     "data": {
      "text/plain": [
       "14"
      ]
     },
     "execution_count": 37,
     "metadata": {},
     "output_type": "execute_result"
    }
   ],
   "source": [
    "len(intakes.loc[intakes[\"Animal ID\"] == \"A718223\"])"
   ]
  },
  {
   "cell_type": "markdown",
   "metadata": {},
   "source": [
    "What column should we use to merge these DataFrames?\n",
    "\n",
    "-"
   ]
  },
  {
   "cell_type": "code",
   "execution_count": 45,
   "metadata": {},
   "outputs": [
    {
     "data": {
      "text/plain": [
       "(115213, 12)"
      ]
     },
     "execution_count": 45,
     "metadata": {},
     "output_type": "execute_result"
    }
   ],
   "source": [
    "outcomes.shape"
   ]
  },
  {
   "cell_type": "code",
   "execution_count": 48,
   "metadata": {},
   "outputs": [],
   "source": [
    "# Code here to merge dataframes - replace None with appropriate code\n",
    "combined_df = intakes.merge(outcomes,\n",
    "                            how=\"inner\",\n",
    "                            on=[\"Animal ID\", ],\n",
    "                            suffixes=('_intakes', '_outcomes'),\n",
    "                            validate=\"many_to_many\")"
   ]
  },
  {
   "cell_type": "code",
   "execution_count": 49,
   "metadata": {
    "scrolled": true
   },
   "outputs": [
    {
     "data": {
      "text/plain": [
       "(148247, 23)"
      ]
     },
     "execution_count": 49,
     "metadata": {},
     "output_type": "execute_result"
    }
   ],
   "source": [
    "# Code here to check out the details of our new dataframe\n",
    "combined_df.shape"
   ]
  },
  {
   "cell_type": "code",
   "execution_count": 50,
   "metadata": {},
   "outputs": [
    {
     "data": {
      "text/plain": [
       "Index(['Animal ID', 'Name_intakes', 'DateTime_intakes', 'MonthYear_intakes',\n",
       "       'Found Location', 'Intake Type', 'Intake Condition',\n",
       "       'Animal Type_intakes', 'Sex upon Intake', 'Age upon Intake',\n",
       "       'Breed_intakes', 'Color_intakes', 'Name_outcomes', 'DateTime_outcomes',\n",
       "       'MonthYear_outcomes', 'Date of Birth', 'Outcome Type',\n",
       "       'Outcome Subtype', 'Animal Type_outcomes', 'Sex upon Outcome',\n",
       "       'Age upon Outcome', 'Breed_outcomes', 'Color_outcomes'],\n",
       "      dtype='object')"
      ]
     },
     "execution_count": 50,
     "metadata": {},
     "output_type": "execute_result"
    }
   ],
   "source": [
    "combined_df.columns"
   ]
  },
  {
   "cell_type": "code",
   "execution_count": 51,
   "metadata": {
    "scrolled": true
   },
   "outputs": [
    {
     "data": {
      "text/plain": [
       "196"
      ]
     },
     "execution_count": 51,
     "metadata": {},
     "output_type": "execute_result"
    }
   ],
   "source": [
    "len(combined_df.loc[combined_df[\"Animal ID\"] == \"A718223\"])"
   ]
  },
  {
   "cell_type": "code",
   "execution_count": 52,
   "metadata": {},
   "outputs": [
    {
     "data": {
      "text/plain": [
       "196"
      ]
     },
     "execution_count": 52,
     "metadata": {},
     "output_type": "execute_result"
    }
   ],
   "source": [
    "14 * 14"
   ]
  },
  {
   "cell_type": "markdown",
   "metadata": {},
   "source": [
    "Is the shape of the merged DataFrame what we expected? Let's discuss.\n",
    "\n",
    "- "
   ]
  },
  {
   "cell_type": "markdown",
   "metadata": {},
   "source": [
    "## Level Up!\n",
    "\n",
    "1. Find the **age in days** for all animals, not just the ones whose age is provided in years. Be sure to do this on the original dataframe, not just on subsets of the dataframe.\n",
    "\n",
    "   - (Assume a year is 365 days, and a month is 30 days)\n",
    "\n",
    "        \n",
    "2. Ask a few questions of the combined dataframe that you couldn't figure out by just looking at the intakes or outcomes dataframes by themselves.\n",
    "\n",
    "   - Example: Can you find out how long each animal in the combined dataframe has been in the shelter? \n",
    "        \n",
    "       - Hint: Check out Date Time objects - a new data type that isn't a string or an integer, but which Pandas can recognize as time! https://pandas.pydata.org/pandas-docs/stable/user_guide/timeseries.html"
   ]
  },
  {
   "cell_type": "code",
   "execution_count": null,
   "metadata": {},
   "outputs": [],
   "source": [
    "# Code here to work on level up #1\n"
   ]
  },
  {
   "cell_type": "code",
   "execution_count": null,
   "metadata": {},
   "outputs": [],
   "source": []
  },
  {
   "cell_type": "code",
   "execution_count": null,
   "metadata": {},
   "outputs": [],
   "source": []
  },
  {
   "cell_type": "code",
   "execution_count": null,
   "metadata": {},
   "outputs": [],
   "source": [
    "# Code here to work on level up #2\n"
   ]
  },
  {
   "cell_type": "code",
   "execution_count": null,
   "metadata": {},
   "outputs": [],
   "source": []
  },
  {
   "cell_type": "code",
   "execution_count": null,
   "metadata": {},
   "outputs": [],
   "source": []
  }
 ],
 "metadata": {
  "kernelspec": {
   "display_name": "Python [conda env:learn-env] *",
   "language": "python",
   "name": "conda-env-learn-env-py"
  },
  "language_info": {
   "codemirror_mode": {
    "name": "ipython",
    "version": 3
   },
   "file_extension": ".py",
   "mimetype": "text/x-python",
   "name": "python",
   "nbconvert_exporter": "python",
   "pygments_lexer": "ipython3",
   "version": "3.6.9"
  }
 },
 "nbformat": 4,
 "nbformat_minor": 2
}
